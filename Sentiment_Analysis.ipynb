{
 "cells": [
  {
   "cell_type": "markdown",
   "id": "b5c3f935",
   "metadata": {},
   "source": [
    "# SentifyMaster: sentiment analysis using twitters api"
   ]
  },
  {
   "cell_type": "markdown",
   "id": "a83c8169",
   "metadata": {},
   "source": [
    "# Building the Analyzer"
   ]
  },
  {
   "cell_type": "code",
   "execution_count": 1,
   "id": "5dc650f7",
   "metadata": {
    "scrolled": false
   },
   "outputs": [
    {
     "name": "stderr",
     "output_type": "stream",
     "text": [
      "[nltk_data] Downloading package stopwords to\n",
      "[nltk_data]     /Users/nabilyimer/nltk_data...\n",
      "[nltk_data]   Package stopwords is already up-to-date!\n"
     ]
    },
    {
     "data": {
      "text/plain": [
       "True"
      ]
     },
     "execution_count": 1,
     "metadata": {},
     "output_type": "execute_result"
    }
   ],
   "source": [
    "# Importing  necessary libraries\n",
    "\n",
    "from imblearn.over_sampling import SMOTE\n",
    "from sklearn.feature_extraction.text import CountVectorizer\n",
    "from sklearn.svm import SVC\n",
    "from sklearn.metrics import classification_report,confusion_matrix\n",
    "from sklearn.model_selection import train_test_split\n",
    "from collections import Counter\n",
    "\n",
    "import string\n",
    "import nltk\n",
    "import spacy\n",
    "\n",
    "import matplotlib.pyplot as plt\n",
    "import seaborn as sns\n",
    "\n",
    "\n",
    "import pandas as pd \n",
    "pd.set_option('display.max_colwidth', None)\n",
    "\n",
    "\n",
    "\n",
    "nlp = spacy.load(\"en_core_web_sm\")  # download the english model\n",
    "nltk.download('stopwords')          # download common stopwords from nltk"
   ]
  },
  {
   "cell_type": "code",
   "execution_count": 2,
   "id": "106f6303",
   "metadata": {},
   "outputs": [],
   "source": [
    "class SentimentAnalyzer():\n",
    "    \n",
    "    def __init__(self):\n",
    "        self.vectorizer = CountVectorizer(ngram_range=(1,3))\n",
    "        \n",
    "        self.model = SVC(kernel='linear')\n",
    "        \n",
    "        self.smote = SMOTE(random_state = 42 ,sampling_strategy='minority')\n",
    "\n",
    "        \n",
    "    def pre_process(self,text):\n",
    "        tokens = nlp(text)\n",
    "        \n",
    "        # lemmatize\n",
    "\n",
    "        tokens = [token.lemma_ for token in tokens]\n",
    "\n",
    "        # remove stopwords and punctuations\n",
    "                                                                                       # including targeted person and negation   \n",
    "        stopwords_ = [word for word in nltk.corpus.stopwords.words('english') if word not in ['he', 'she','no', 'not', 'they', 'you']]\n",
    "\n",
    "        tokens = [token for token in tokens if not token in string.punctuation and not token in stopwords_]                                            \n",
    "\n",
    "        return ' '.join(tokens)\n",
    "\n",
    "\n",
    "\n",
    "    def train(self,X_train,y_train):\n",
    "        \n",
    "        # vectorizing preprocessed text\n",
    "        \n",
    "        train = [self.pre_process(txt) for txt in X_train]\n",
    "        \n",
    "        train_vector = self.vectorizer.fit_transform(train)\n",
    "        \n",
    "        # handling the imbalanced labels\n",
    "        X_train_smote,y_train_smote = self.smote.fit_resample(train_vector.astype('float'),y_train)\n",
    "\n",
    "        # fitting the SVM\n",
    "        self.model.fit(X_train_smote,y_train_smote)\n",
    "        \n",
    "\n",
    "\n",
    "    def predict(self,X_test):\n",
    "        \n",
    "        # pre-process by itrating over the df or if it is a single tweet \n",
    "        test = [self.pre_process(txt) for txt in X_test] if not isinstance(X_test,str) else [self.pre_process(X_test)]\n",
    "        test_vector = self.vectorizer.transform(test)\n",
    "        \n",
    "        yhat_test = self.model.predict(test_vector)\n",
    "        \n",
    "        return yhat_test\n",
    "    "
   ]
  },
  {
   "cell_type": "code",
   "execution_count": null,
   "id": "9734ca91",
   "metadata": {},
   "outputs": [],
   "source": []
  },
  {
   "cell_type": "code",
   "execution_count": 11,
   "id": "7f5805c2",
   "metadata": {},
   "outputs": [],
   "source": [
    "train = pd.read_csv('sentiments.csv')[:200_000]\n",
    "X_train_0 = train['text']\n",
    "y_train_0 = train['label']\n",
    "\n",
    "label = { \n",
    "    \n",
    "    0 :'sadness'   ,\n",
    "    1 :'joy'       ,\n",
    "    2 : 'love'     ,\n",
    "    3 : 'anger'    ,\n",
    "    4 :  'fear'    ,\n",
    "    5 : 'surprise'\n",
    "    \n",
    "        }\n",
    "\n"
   ]
  },
  {
   "cell_type": "code",
   "execution_count": 21,
   "id": "e3300324",
   "metadata": {},
   "outputs": [
    {
     "data": {
      "text/plain": [
       "Counter({1: 67484, 0: 58543, 3: 27443, 4: 22859, 2: 16410, 5: 7261})"
      ]
     },
     "execution_count": 21,
     "metadata": {},
     "output_type": "execute_result"
    }
   ],
   "source": [
    "Counter(y_train_0)  # checking the imbalance"
   ]
  },
  {
   "cell_type": "code",
   "execution_count": 13,
   "id": "6b8695c2",
   "metadata": {},
   "outputs": [],
   "source": [
    "# spliting the data into train and validation\n",
    "\n",
    "X_train,X_val,y_train,y_val = train_test_split(X_train_0,y_train_0,test_size=0.2,random_state=42)"
   ]
  },
  {
   "cell_type": "code",
   "execution_count": 14,
   "id": "48151da8",
   "metadata": {},
   "outputs": [],
   "source": [
    "# creating an object \n",
    "model = SentimentAnalyzer()\n",
    "\n",
    "# runing the train function which pre-processes the text then fits to the model\n",
    "model.train(X_train,y_train)\n",
    "\n",
    "# doing inference\n",
    "yhat_val = model.predict(X_val)\n"
   ]
  },
  {
   "cell_type": "code",
   "execution_count": 15,
   "id": "35d76a99",
   "metadata": {
    "scrolled": true
   },
   "outputs": [
    {
     "data": {
      "text/html": [
       "<div>\n",
       "<style scoped>\n",
       "    .dataframe tbody tr th:only-of-type {\n",
       "        vertical-align: middle;\n",
       "    }\n",
       "\n",
       "    .dataframe tbody tr th {\n",
       "        vertical-align: top;\n",
       "    }\n",
       "\n",
       "    .dataframe thead th {\n",
       "        text-align: right;\n",
       "    }\n",
       "</style>\n",
       "<table border=\"1\" class=\"dataframe\">\n",
       "  <thead>\n",
       "    <tr style=\"text-align: right;\">\n",
       "      <th></th>\n",
       "      <th>Tweet</th>\n",
       "      <th>Sentiment</th>\n",
       "    </tr>\n",
       "  </thead>\n",
       "  <tbody>\n",
       "    <tr>\n",
       "      <th>119737</th>\n",
       "      <td>i went to my weekly grief counseling session and i was feeling extremely emotional and unstable somehow</td>\n",
       "      <td>sadness</td>\n",
       "    </tr>\n",
       "    <tr>\n",
       "      <th>72272</th>\n",
       "      <td>i feel a cold coming on becky what is that recipe for the feel better smoothie</td>\n",
       "      <td>anger</td>\n",
       "    </tr>\n",
       "    <tr>\n",
       "      <th>158154</th>\n",
       "      <td>i think even those who have the passion and intelligence to appreciate feel and especially write poetry have sort of resigned themselves to the fact that poetry hasnt really sold well since neruda or earlier</td>\n",
       "      <td>sadness</td>\n",
       "    </tr>\n",
       "    <tr>\n",
       "      <th>65426</th>\n",
       "      <td>i feel like the time ive devoted to kroger and school would have been much more productively put to use elsewhere</td>\n",
       "      <td>love</td>\n",
       "    </tr>\n",
       "    <tr>\n",
       "      <th>30074</th>\n",
       "      <td>i weigh about but that still doesn t make me feel any better about that when i used to weigh</td>\n",
       "      <td>joy</td>\n",
       "    </tr>\n",
       "  </tbody>\n",
       "</table>\n",
       "</div>"
      ],
      "text/plain": [
       "                                                                                                                                                                                                                  Tweet  \\\n",
       "119737                                                                                                          i went to my weekly grief counseling session and i was feeling extremely emotional and unstable somehow   \n",
       "72272                                                                                                                                    i feel a cold coming on becky what is that recipe for the feel better smoothie   \n",
       "158154  i think even those who have the passion and intelligence to appreciate feel and especially write poetry have sort of resigned themselves to the fact that poetry hasnt really sold well since neruda or earlier   \n",
       "65426                                                                                                 i feel like the time ive devoted to kroger and school would have been much more productively put to use elsewhere   \n",
       "30074                                                                                                                      i weigh about but that still doesn t make me feel any better about that when i used to weigh   \n",
       "\n",
       "       Sentiment  \n",
       "119737   sadness  \n",
       "72272      anger  \n",
       "158154   sadness  \n",
       "65426       love  \n",
       "30074        joy  "
      ]
     },
     "execution_count": 15,
     "metadata": {},
     "output_type": "execute_result"
    }
   ],
   "source": [
    "# organizing the result\n",
    "results = pd.DataFrame({'Tweet':X_val,'Sentiment': yhat_val}) \n",
    "\n",
    "results['Sentiment'].replace(label,inplace=True)\n",
    "\n",
    "results.head(5)"
   ]
  },
  {
   "cell_type": "markdown",
   "id": "ed6499a6",
   "metadata": {},
   "source": [
    "### Evaluating the Results"
   ]
  },
  {
   "cell_type": "code",
   "execution_count": 76,
   "id": "5de37f09",
   "metadata": {
    "scrolled": true
   },
   "outputs": [
    {
     "data": {
      "text/html": [
       "<div>\n",
       "<style scoped>\n",
       "    .dataframe tbody tr th:only-of-type {\n",
       "        vertical-align: middle;\n",
       "    }\n",
       "\n",
       "    .dataframe tbody tr th {\n",
       "        vertical-align: top;\n",
       "    }\n",
       "\n",
       "    .dataframe thead th {\n",
       "        text-align: right;\n",
       "    }\n",
       "</style>\n",
       "<table border=\"1\" class=\"dataframe\">\n",
       "  <thead>\n",
       "    <tr style=\"text-align: right;\">\n",
       "      <th></th>\n",
       "      <th>sadness</th>\n",
       "      <th>joy</th>\n",
       "      <th>love</th>\n",
       "      <th>anger</th>\n",
       "      <th>fear</th>\n",
       "      <th>surprise</th>\n",
       "    </tr>\n",
       "  </thead>\n",
       "  <tbody>\n",
       "    <tr>\n",
       "      <th>precision</th>\n",
       "      <td>0.934014</td>\n",
       "      <td>0.914030</td>\n",
       "      <td>0.710057</td>\n",
       "      <td>0.886360</td>\n",
       "      <td>0.811333</td>\n",
       "      <td>0.788018</td>\n",
       "    </tr>\n",
       "    <tr>\n",
       "      <th>recall</th>\n",
       "      <td>0.934903</td>\n",
       "      <td>0.908590</td>\n",
       "      <td>0.740472</td>\n",
       "      <td>0.890029</td>\n",
       "      <td>0.842215</td>\n",
       "      <td>0.675127</td>\n",
       "    </tr>\n",
       "    <tr>\n",
       "      <th>f1-score</th>\n",
       "      <td>0.934458</td>\n",
       "      <td>0.911302</td>\n",
       "      <td>0.724946</td>\n",
       "      <td>0.888190</td>\n",
       "      <td>0.826486</td>\n",
       "      <td>0.727217</td>\n",
       "    </tr>\n",
       "  </tbody>\n",
       "</table>\n",
       "</div>"
      ],
      "text/plain": [
       "            sadness       joy      love     anger      fear  surprise\n",
       "precision  0.934014  0.914030  0.710057  0.886360  0.811333  0.788018\n",
       "recall     0.934903  0.908590  0.740472  0.890029  0.842215  0.675127\n",
       "f1-score   0.934458  0.911302  0.724946  0.888190  0.826486  0.727217"
      ]
     },
     "execution_count": 76,
     "metadata": {},
     "output_type": "execute_result"
    }
   ],
   "source": [
    "scores = pd.DataFrame(classification_report(yhat_val,y_val,zero_division=1,output_dict=True))\n",
    "scores = scores.iloc[0:3,0:6]\n",
    "scores.columns = label.values()\n",
    "scores"
   ]
  },
  {
   "cell_type": "code",
   "execution_count": 20,
   "id": "bffce0b1",
   "metadata": {},
   "outputs": [
    {
     "data": {
      "image/png": "[encoded data removed]",
      "text/plain": [
       "<Figure size 800x600 with 2 Axes>"
      ]
     },
     "metadata": {},
     "output_type": "display_data"
    },
    {
     "data": {
      "text/plain": [
       "<Figure size 640x480 with 0 Axes>"
      ]
     },
     "metadata": {},
     "output_type": "display_data"
    }
   ],
   "source": [
    "conf_matrix = confusion_matrix(yhat_val,y_val)\n",
    "\n",
    "\n",
    "\n",
    "# Plot the heatmap\n",
    "\n",
    "plt.figure(figsize=(8, 6))\n",
    "sns.heatmap(conf_matrix, cmap='Blues', annot=True, fmt='d', linewidths=.5)\n",
    "plt.xlabel('Predicted label')\n",
    "plt.ylabel('True label')\n",
    "plt.title('Confusion Matrix')\n",
    "plt.show()\n",
    "\n",
    "plt.savefig('confusion_matrix.png')\n"
   ]
  },
  {
   "cell_type": "markdown",
   "id": "ebf33e0f",
   "metadata": {},
   "source": [
    "### Let's do some infrence on tweets"
   ]
  },
  {
   "cell_type": "code",
   "execution_count": 83,
   "id": "5f94e7c7",
   "metadata": {},
   "outputs": [
    {
     "name": "stdout",
     "output_type": "stream",
     "text": [
      "Generative AI shows a stark contrast: exploration yields quality, but practical use disappoints. Hype versus reality leads to frustration. | sadness \n",
      "\n",
      "I couldn't believe my eyes when I saw the unexpected outcome of the experiment. i was overly shocked | surprise \n",
      "\n",
      "Just received the best news ever! I'm over the moon with excitement! | joy \n",
      "\n"
     ]
    }
   ],
   "source": [
    "\n",
    "tweet_1 = (\n",
    "    \"Generative AI shows a stark contrast: exploration yields quality, \"\n",
    "    \"but practical use disappoints. Hype versus reality leads to frustration.\"\n",
    ")\n",
    "\n",
    "yhat_1 = model.predict(tweet_1)\n",
    "\n",
    "\n",
    "\n",
    "\n",
    "tweet_2 = \"I couldn't believe my eyes when I saw the unexpected outcome of the experiment. i was overly shocked\"\n",
    "\n",
    "\n",
    "\n",
    "yhat_2 = model.predict(tweet_2)\n",
    "\n",
    "\n",
    "tweet_3 = \"Just received the best news ever! I'm over the moon with excitement!\"\n",
    "\n",
    "yhat_3 = model.predict(tweet_3)\n",
    "\n",
    "\n",
    "print(tweet_1,'|',label[yhat_1[0]],'\\n')\n",
    "\n",
    "print(tweet_2,'|',label[yhat_2[0]],'\\n')\n",
    "\n",
    "print(tweet_3,'|',label[yhat_3[0]],'\\n')\n",
    "\n",
    "\n",
    "\n"
   ]
  },
  {
   "cell_type": "markdown",
   "id": "4b459e78",
   "metadata": {},
   "source": [
    "### A Callenge i faced"
   ]
  },
  {
   "cell_type": "code",
   "execution_count": 19,
   "id": "02fd0ef2",
   "metadata": {},
   "outputs": [
    {
     "name": "stdout",
     "output_type": "stream",
     "text": [
      "I feel really unhappy. | sadness\n",
      "I am not happy. | joy\n"
     ]
    }
   ],
   "source": [
    "# this shows that unhappyness is sadness\n",
    "tweet = \"I feel really unhappy.\"\n",
    "\n",
    "yhat = model.predict(tweet)\n",
    "\n",
    "print(tweet,\"|\",label[yhat[0]])\n",
    "\n",
    "# what if we try not happiness ??\n",
    "\n",
    "tweet_ = \"I am not happy.\"\n",
    "\n",
    "yhat = model.predict(tweet_)\n",
    "\n",
    "print(tweet_,\"|\",label[yhat[0]])"
   ]
  },
  {
   "cell_type": "markdown",
   "id": "7512538d",
   "metadata": {},
   "source": [
    "tried to fix by increasing the Number of Bags to 2,3.. but no effect"
   ]
  },
  {
   "cell_type": "code",
   "execution_count": null,
   "id": "b5a06263",
   "metadata": {},
   "outputs": [],
   "source": []
  },
  {
   "cell_type": "code",
   "execution_count": null,
   "id": "e70d55c7",
   "metadata": {},
   "outputs": [],
   "source": []
  }
 ],
 "metadata": {
  "kernelspec": {
   "display_name": "Python 3 (ipykernel)",
   "language": "python",
   "name": "python3"
  },
  "language_info": {
   "codemirror_mode": {
    "name": "ipython",
    "version": 3
   },
   "file_extension": ".py",
   "mimetype": "text/x-python",
   "name": "python",
   "nbconvert_exporter": "python",
   "pygments_lexer": "ipython3",
   "version": "3.11.5"
  }
 },
 "nbformat": 4,
 "nbformat_minor": 5
}
